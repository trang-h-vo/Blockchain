{
 "cells": [
  {
   "cell_type": "markdown",
   "metadata": {},
   "source": [
    "### Create a nested P2WPKH address"
   ]
  },
  {
   "cell_type": "code",
   "execution_count": 9,
   "metadata": {},
   "outputs": [],
   "source": [
    "from bitcoinutils.setup import setup\n",
    "from bitcoinutils.utils import to_satoshis\n",
    "from bitcoinutils.transactions import Transaction, TxInput, TxOutput\n",
    "from bitcoinutils.keys import P2pkhAddress, P2wpkhAddress, P2wshAddress, P2shAddress, PrivateKey, PublicKey\n",
    "from bitcoinutils.script import Script"
   ]
  },
  {
   "cell_type": "code",
   "execution_count": 1,
   "metadata": {},
   "outputs": [],
   "source": [
    "def nested_p2wpkh_address():\n",
    "    # setup the network\n",
    "    setup('testnet')\n",
    "    \n",
    "    # keys \n",
    "    priv = PrivateKey('cMahea7zqjxrtgAbB7LSGbcQUr1uX1ojuat9jfLSZyWoMw1uxM2E')\n",
    "    pub = priv.get_public_key()\n",
    "\n",
    "    # the p2sh script and the corresponding address\n",
    "    address = pub.get_segwit_address()\n",
    "    redeem_script = address.to_script_pub_key()\n",
    "    \n",
    "    # generate P2SH(P2WPKH) address\n",
    "    p2sh_addr = P2shAddress.from_script(redeem_script)\n",
    "    \n",
    "    print(\"Nested p2wpkh address: \" + p2sh_addr.to_string())"
   ]
  },
  {
   "cell_type": "code",
   "execution_count": 2,
   "metadata": {},
   "outputs": [
    {
     "name": "stdout",
     "output_type": "stream",
     "text": [
      "Nested p2wpkh address: 2MwA22fBcwZf9dTsqAzEXr4cb1WVVQSroo3\n"
     ]
    }
   ],
   "source": [
    "nested_p2wpkh_address()"
   ]
  },
  {
   "cell_type": "markdown",
   "metadata": {},
   "source": [
    "### Send to nested P2WPKH address"
   ]
  },
  {
   "cell_type": "code",
   "execution_count": 20,
   "metadata": {},
   "outputs": [],
   "source": [
    "def send_to_nested_P2WPKH():\n",
    "    # setup the network\n",
    "    setup('testnet')\n",
    "\n",
    "\n",
    "    # create input from tx id of UTXO (contained 0.00093 tBTC)\n",
    "    txin = TxInput('534bfc7bcef71d78b6eb1ac4bc8dcdf2e8ecfa5802e8be6ea7cb9a59d726e6f2', 0)\n",
    "\n",
    "    # create tx output using P2WPKH scriptPubKey (locking script)\n",
    "    addr = P2shAddress('2MwA22fBcwZf9dTsqAzEXr4cb1WVVQSroo3')\n",
    "    txout = TxOutput(to_satoshis(0.00092), Script(['OP_HASH160', addr.to_hash160(), 'OP_EQUAL']) )\n",
    "    \n",
    "    # create transaction from input/output -- default locktime is used\n",
    "    tx = Transaction([txin], [txout])\n",
    "\n",
    "    # keys and address corresponding to the UTXO\n",
    "    sk = PrivateKey('cMahea7zqjxrtgAbB7LSGbcQUr1uX1ojuat9o4KgthY6Fje7Vptx')\n",
    "    pk = sk.get_public_key().to_hex()\n",
    "    from_addr = P2pkhAddress('mo6jbdKcdPVsEC8jBDJajspTF4Ymn35h15')\n",
    "    \n",
    "    # signature for the input\n",
    "    sig = sk.sign_input( tx, 0, from_addr.to_script_pub_key() )\n",
    "    \n",
    "    # set the scriptSig (unlocking script)\n",
    "    txin.script_sig = Script([sig, pk])\n",
    "    signed_tx = tx.serialize()\n",
    "\n",
    "    # print raw signed transaction ready to be broadcasted\n",
    "    print(\"\\nRaw signed transaction:\\n\" + signed_tx)\n",
    "    print(\"\\nTxId:\", tx.get_txid())"
   ]
  },
  {
   "cell_type": "code",
   "execution_count": 17,
   "metadata": {},
   "outputs": [
    {
     "name": "stdout",
     "output_type": "stream",
     "text": [
      "\n",
      "Raw signed transaction:\n",
      "0200000001f2e626d7599acba76ebee80258faece8f2cd8dbcc41aebb6781df7ce7bfc4b53000000006b483045022100e81cb6a4e156b6dbcf9acdca2dfb9e46f819e68a0ac36e2958295921eb972fff022027bc47c4cab251403cd0ca98d1933dca8d9f2950a0471740c5279f454e231e6d0121025ec5f8f5efa0ce5313c80f835c026301f520611fe00cd2491c4eed8beea25c89ffffffff01606701000000000017a9142ae470bf0ebed5676703b8e9c12169c9be78791d8700000000\n",
      "\n",
      "TxId: cfa38a0c7bf84007059fa7f89a53e00c3f3f656673e32fe8040a16771eec7b49\n"
     ]
    }
   ],
   "source": [
    "send_to_nested_P2WPKH()"
   ]
  },
  {
   "cell_type": "markdown",
   "metadata": {},
   "source": [
    "### Spend nested P2WPKH output"
   ]
  },
  {
   "cell_type": "code",
   "execution_count": 18,
   "metadata": {},
   "outputs": [],
   "source": [
    "def spend_nested_p2wpkh():\n",
    "    # setup the network\n",
    "    setup('testnet')\n",
    "\n",
    "    # the keys corresponding to the P2WPKH address\n",
    "    priv = PrivateKey('cMahea7zqjxrtgAbB7LSGbcQUr1uX1ojuat9jfLSZyWoMw1uxM2E')\n",
    "    pub = priv.get_public_key()\n",
    "\n",
    "    # the p2sh script and the corresponding address\n",
    "    redeem_script = pub.get_segwit_address().to_script_pub_key()\n",
    "    p2sh_addr = P2shAddress.from_script(redeem_script)\n",
    "\n",
    "    # the UTXO of the P2SH-P2WPKH that we are trying to spend\n",
    "    inp = TxInput('cfa38a0c7bf84007059fa7f89a53e00c3f3f656673e32fe8040a16771eec7b49', 0)\n",
    "\n",
    "    # exact amount of UTXO we try to spent\n",
    "    amount = to_satoshis(0.00092)\n",
    "\n",
    "    # the address to send funds to\n",
    "    to_addr = P2pkhAddress('mgkswn7UohYskb8bED9BiQXMC5gMCjSoG3')\n",
    "\n",
    "    # the output sending 0.0009 - 0.00002 is tx fee - no change\n",
    "    out = TxOutput(to_satoshis(0.0009), to_addr.to_script_pub_key())\n",
    "\n",
    "    # create a tx with one segwit input\n",
    "    tx = Transaction([inp], [out], has_segwit=True)\n",
    "\n",
    "    # script code corresponding to P2WPKH (it is the classic P2PKH)\n",
    "    script_code = pub.get_address().to_script_pub_key()\n",
    "    \n",
    "    # signature using the appropriate script code and the original amount of the UTXO\n",
    "    sig = priv.sign_segwit_input(tx, 0, script_code, amount)\n",
    "\n",
    "    # script_sig is the redeem script passed as a single element\n",
    "    inp.script_sig = Script([redeem_script.to_hex()])\n",
    "\n",
    "    # finally, the unlocking script is added as a witness\n",
    "    tx.witnesses.append(Script([sig, pub.to_hex()]))\n",
    "\n",
    "    # print raw signed transaction ready to be broadcasted\n",
    "    print(\"\\nRaw signed transaction:\\n\" + tx.serialize())\n",
    "    print(\"\\nTxId:\", tx.get_txid())"
   ]
  },
  {
   "cell_type": "code",
   "execution_count": 19,
   "metadata": {},
   "outputs": [
    {
     "name": "stdout",
     "output_type": "stream",
     "text": [
      "\n",
      "Raw signed transaction:\n",
      "02000000000101497bec1e77160a04e82fe37366653f3f0ce0539af8a79f050740f87b0c8aa3cf0000000017160014493159593872c5dea28335a7b51db4f45913f405ffffffff01905f0100000000001976a9140d9a5183060f471ad234aaf6b16b46fd7cdb45d488ac0247304402206a2fa3abe05d23c05127ec0287fb397e87146bb69433637f3a8561db9155bf7802200a740538456a923fe1b90221934f8723f955dcb53181706d7b77a6a82e87faca012103ff4ed02d37f55c0d6f420ba513d379dc7c88326b466de43eabbdf0afda3de87700000000\n",
      "\n",
      "TxId: 9afc697a85109ffb4d4aba57e60e0f6cac5ab3025be4cbc72cb6aab3a9a899f9\n"
     ]
    }
   ],
   "source": [
    "spend_nested_p2wpkh()"
   ]
  }
 ],
 "metadata": {
  "kernelspec": {
   "display_name": "Python 3",
   "language": "python",
   "name": "python3"
  },
  "language_info": {
   "codemirror_mode": {
    "name": "ipython",
    "version": 3
   },
   "file_extension": ".py",
   "mimetype": "text/x-python",
   "name": "python",
   "nbconvert_exporter": "python",
   "pygments_lexer": "ipython3",
   "version": "3.7.9"
  },
  "toc": {
   "base_numbering": 1,
   "nav_menu": {},
   "number_sections": true,
   "sideBar": true,
   "skip_h1_title": true,
   "title_cell": "Table of Contents",
   "title_sidebar": "Contents",
   "toc_cell": false,
   "toc_position": {},
   "toc_section_display": true,
   "toc_window_display": true
  }
 },
 "nbformat": 4,
 "nbformat_minor": 4
}
